{
 "cells": [
  {
   "cell_type": "markdown",
   "metadata": {},
   "source": [
    "## Model creation for prediction\n",
    "### Libraries"
   ]
  },
  {
   "cell_type": "code",
   "execution_count": 1,
   "metadata": {},
   "outputs": [],
   "source": [
    "import pandas as pd\n",
    "import numpy as np"
   ]
  },
  {
   "cell_type": "code",
   "execution_count": 2,
   "metadata": {},
   "outputs": [],
   "source": [
    "import functions as func"
   ]
  },
  {
   "cell_type": "markdown",
   "metadata": {},
   "source": [
    "## Data and model creation\n",
    "The data is splitted using random_state= 42 and a 67 to 33% train-test ratio. The learning_rate of the model is set to 0.5."
   ]
  },
  {
   "cell_type": "code",
   "execution_count": 3,
   "metadata": {},
   "outputs": [
    {
     "name": "stderr",
     "output_type": "stream",
     "text": [
      "C:\\Users\\oagaf\\.conda\\envs\\DataScience\\lib\\site-packages\\IPython\\core\\interactiveshell.py:3063: DtypeWarning: Columns (5,7,11,12) have mixed types.Specify dtype option on import or set low_memory=False.\n",
      "  interactivity=interactivity, compiler=compiler, result=result)\n"
     ]
    },
    {
     "data": {
      "text/html": [
       "<div>\n",
       "<style scoped>\n",
       "    .dataframe tbody tr th:only-of-type {\n",
       "        vertical-align: middle;\n",
       "    }\n",
       "\n",
       "    .dataframe tbody tr th {\n",
       "        vertical-align: top;\n",
       "    }\n",
       "\n",
       "    .dataframe thead th {\n",
       "        text-align: right;\n",
       "    }\n",
       "</style>\n",
       "<table border=\"1\" class=\"dataframe\">\n",
       "  <thead>\n",
       "    <tr style=\"text-align: right;\">\n",
       "      <th></th>\n",
       "      <th>date</th>\n",
       "      <th>time</th>\n",
       "      <th>duration</th>\n",
       "      <th>source</th>\n",
       "      <th>src_port</th>\n",
       "      <th>destination</th>\n",
       "      <th>dest_port</th>\n",
       "      <th>protocol</th>\n",
       "      <th>length</th>\n",
       "      <th>info</th>\n",
       "      <th>type_of_attack</th>\n",
       "      <th>machine</th>\n",
       "      <th>exito</th>\n",
       "      <th>attack</th>\n",
       "      <th>flag</th>\n",
       "      <th>lb_protocol</th>\n",
       "      <th>lb_type_of_attack</th>\n",
       "      <th>lb_machine</th>\n",
       "      <th>lb_flag</th>\n",
       "    </tr>\n",
       "  </thead>\n",
       "  <tbody>\n",
       "    <tr>\n",
       "      <th>0</th>\n",
       "      <td>Jul 13, 2020 15:28:31.152545818 CEST</td>\n",
       "      <td>60.924132</td>\n",
       "      <td>49.202835</td>\n",
       "      <td>10.0.2.15</td>\n",
       "      <td>37232</td>\n",
       "      <td>10.0.2.13</td>\n",
       "      <td>80</td>\n",
       "      <td>TCP</td>\n",
       "      <td>74</td>\n",
       "      <td>37232  &gt;  80 [SYN] Seq=0 Win=64240 Len=0 MSS=1...</td>\n",
       "      <td>Dirbuster</td>\n",
       "      <td>DVL</td>\n",
       "      <td>1</td>\n",
       "      <td>1</td>\n",
       "      <td>SYN</td>\n",
       "      <td>60</td>\n",
       "      <td>1</td>\n",
       "      <td>1</td>\n",
       "      <td>53</td>\n",
       "    </tr>\n",
       "  </tbody>\n",
       "</table>\n",
       "</div>"
      ],
      "text/plain": [
       "                                   date       time   duration     source  \\\n",
       "0  Jul 13, 2020 15:28:31.152545818 CEST  60.924132  49.202835  10.0.2.15   \n",
       "\n",
       "  src_port destination dest_port protocol  length  \\\n",
       "0    37232   10.0.2.13        80      TCP      74   \n",
       "\n",
       "                                                info type_of_attack machine  \\\n",
       "0  37232  >  80 [SYN] Seq=0 Win=64240 Len=0 MSS=1...      Dirbuster     DVL   \n",
       "\n",
       "   exito  attack flag  lb_protocol  lb_type_of_attack  lb_machine  lb_flag  \n",
       "0      1       1  SYN           60                  1           1       53  "
      ]
     },
     "execution_count": 3,
     "metadata": {},
     "output_type": "execute_result"
    }
   ],
   "source": [
    "df = pd.read_csv(r'data_final_categorical.csv')\n",
    "df = df.drop(['Unnamed: 0'], axis = 1)\n",
    "df.head(1)"
   ]
  },
  {
   "cell_type": "code",
   "execution_count": 4,
   "metadata": {},
   "outputs": [],
   "source": [
    "machines = pd.read_csv(r'machine_labels.csv')\n",
    "attack = pd.read_csv(r'attack_type_labels.csv')"
   ]
  },
  {
   "cell_type": "code",
   "execution_count": 5,
   "metadata": {
    "tags": []
   },
   "outputs": [
    {
     "name": "stdout",
     "output_type": "stream",
     "text": [
      "Predicting attack in data:\n",
      "Classes in dataframe {0: 377720, 1: 315579}\n",
      "\t- Class 0 represents 54.48 % of the whole data\n",
      "\t- Class 1 represents 45.52 % of the whole data\n",
      "\n",
      "\n",
      "Classification Report\n",
      "              precision    recall  f1-score   support\n",
      "\n",
      "           0       1.00      1.00      1.00    124691\n",
      "           1       1.00      1.00      1.00    104098\n",
      "\n",
      "    accuracy                           1.00    228789\n",
      "   macro avg       1.00      1.00      1.00    228789\n",
      "weighted avg       1.00      1.00      1.00    228789\n",
      "\n",
      "Overall accuracy: 100.0%\n"
     ]
    },
    {
     "data": {
      "text/plain": [
       "XGBClassifier(base_score=0.5, booster='gbtree', colsample_bylevel=1,\n",
       "              colsample_bynode=1, colsample_bytree=1, gamma=0, gpu_id=-1,\n",
       "              importance_type='gain', interaction_constraints='',\n",
       "              learning_rate=0.5, max_delta_step=0, max_depth=6,\n",
       "              min_child_weight=1, missing=nan, monotone_constraints='()',\n",
       "              n_estimators=100, n_jobs=0, num_parallel_tree=1,\n",
       "              objective='binary:logistic', random_state=0, reg_alpha=0,\n",
       "              reg_lambda=1, scale_pos_weight=1, subsample=1,\n",
       "              tree_method='exact', validate_parameters=1, verbosity=None)"
      ]
     },
     "execution_count": 5,
     "metadata": {},
     "output_type": "execute_result"
    }
   ],
   "source": [
    "xgb_model = func.to_ML(df, 'attack')\n",
    "xgb_model"
   ]
  },
  {
   "cell_type": "code",
   "execution_count": 6,
   "metadata": {
    "tags": []
   },
   "outputs": [
    {
     "name": "stdout",
     "output_type": "stream",
     "text": [
      "Predicting exito in data:\n",
      "Classes in dataframe {1: 253250, 0: 62329}\n",
      "\t- Class 1 represents 80.25 % of the whole data\n",
      "\t- Class 0 represents 19.75 % of the whole data\n",
      "\n",
      "\n",
      "Classification Report\n",
      "              precision    recall  f1-score   support\n",
      "\n",
      "           0       1.00      1.00      1.00     20585\n",
      "           1       1.00      1.00      1.00     83557\n",
      "\n",
      "    accuracy                           1.00    104142\n",
      "   macro avg       1.00      1.00      1.00    104142\n",
      "weighted avg       1.00      1.00      1.00    104142\n",
      "\n",
      "Overall accuracy: 99.95%\n"
     ]
    },
    {
     "data": {
      "text/plain": [
       "XGBClassifier(base_score=0.5, booster='gbtree', colsample_bylevel=1,\n",
       "              colsample_bynode=1, colsample_bytree=1, gamma=0, gpu_id=-1,\n",
       "              importance_type='gain', interaction_constraints='',\n",
       "              learning_rate=0.5, max_delta_step=0, max_depth=6,\n",
       "              min_child_weight=1, missing=nan, monotone_constraints='()',\n",
       "              n_estimators=100, n_jobs=0, num_parallel_tree=1,\n",
       "              objective='binary:logistic', random_state=0, reg_alpha=0,\n",
       "              reg_lambda=1, scale_pos_weight=1, subsample=1,\n",
       "              tree_method='exact', validate_parameters=1, verbosity=None)"
      ]
     },
     "execution_count": 6,
     "metadata": {},
     "output_type": "execute_result"
    }
   ],
   "source": [
    "xgb_model_2 = func.to_ML_attack(df, 'exito')\n",
    "xgb_model_2"
   ]
  },
  {
   "cell_type": "code",
   "execution_count": 7,
   "metadata": {
    "tags": []
   },
   "outputs": [
    {
     "name": "stdout",
     "output_type": "stream",
     "text": [
      "Predicting lb_machine in data:\n",
      "Classes in dataframe {5: 128238, 1: 73113, 3: 50081, 2: 43872, 4: 20275}\n",
      "\t- Class 5 represents 40.64 % of the whole data\n",
      "\t- Class 1 represents 23.17 % of the whole data\n",
      "\t- Class 3 represents 15.87 % of the whole data\n",
      "\t- Class 2 represents 13.9 % of the whole data\n",
      "\t- Class 4 represents 6.42 % of the whole data\n",
      "\n",
      "\n",
      "Classification Report\n",
      "              precision    recall  f1-score   support\n",
      "\n",
      "           1       1.00      1.00      1.00     24127\n",
      "           2       1.00      1.00      1.00     14455\n",
      "           3       1.00      1.00      1.00     16466\n",
      "           4       1.00      1.00      1.00      6646\n",
      "           5       1.00      1.00      1.00     42448\n",
      "\n",
      "    accuracy                           1.00    104142\n",
      "   macro avg       1.00      1.00      1.00    104142\n",
      "weighted avg       1.00      1.00      1.00    104142\n",
      "\n",
      "Overall accuracy: 100.0%\n"
     ]
    },
    {
     "data": {
      "text/plain": [
       "XGBClassifier(base_score=0.5, booster='gbtree', colsample_bylevel=1,\n",
       "              colsample_bynode=1, colsample_bytree=1, gamma=0, gpu_id=-1,\n",
       "              importance_type='gain', interaction_constraints='',\n",
       "              learning_rate=0.5, max_delta_step=0, max_depth=6,\n",
       "              min_child_weight=1, missing=nan, monotone_constraints='()',\n",
       "              n_estimators=100, n_jobs=0, num_parallel_tree=1,\n",
       "              objective='multi:softprob', random_state=0, reg_alpha=0,\n",
       "              reg_lambda=1, scale_pos_weight=None, subsample=1,\n",
       "              tree_method='exact', validate_parameters=1, verbosity=None)"
      ]
     },
     "execution_count": 7,
     "metadata": {},
     "output_type": "execute_result"
    }
   ],
   "source": [
    "xgb_model_3 = func.to_ML_attack(df, 'lb_machine')\n",
    "xgb_model_3"
   ]
  },
  {
   "cell_type": "code",
   "execution_count": 8,
   "metadata": {
    "tags": []
   },
   "outputs": [
    {
     "name": "stdout",
     "output_type": "stream",
     "text": [
      "Predicting lb_type_of_attack in data:\n",
      "Classes in dataframe {6: 107230, 7: 50081, 3: 43872, 1: 40202, 5: 32911, 2: 21008, 4: 20275}\n",
      "\t- Class 6 represents 33.98 % of the whole data\n",
      "\t- Class 7 represents 15.87 % of the whole data\n",
      "\t- Class 3 represents 13.9 % of the whole data\n",
      "\t- Class 1 represents 12.74 % of the whole data\n",
      "\t- Class 5 represents 10.43 % of the whole data\n",
      "\t- Class 2 represents 6.66 % of the whole data\n",
      "\t- Class 4 represents 6.42 % of the whole data\n",
      "\n",
      "\n",
      "Classification Report\n",
      "              precision    recall  f1-score   support\n",
      "\n",
      "           1       1.00      1.00      1.00     13250\n",
      "           2       0.95      0.93      0.94      6932\n",
      "           3       1.00      1.00      1.00     14455\n",
      "           4       1.00      1.00      1.00      6646\n",
      "           5       1.00      1.00      1.00     10877\n",
      "           6       0.99      0.99      0.99     35516\n",
      "           7       1.00      1.00      1.00     16466\n",
      "\n",
      "    accuracy                           0.99    104142\n",
      "   macro avg       0.99      0.99      0.99    104142\n",
      "weighted avg       0.99      0.99      0.99    104142\n",
      "\n",
      "Overall accuracy: 99.23%\n"
     ]
    },
    {
     "data": {
      "text/plain": [
       "XGBClassifier(base_score=0.5, booster='gbtree', colsample_bylevel=1,\n",
       "              colsample_bynode=1, colsample_bytree=1, gamma=0, gpu_id=-1,\n",
       "              importance_type='gain', interaction_constraints='',\n",
       "              learning_rate=0.5, max_delta_step=0, max_depth=6,\n",
       "              min_child_weight=1, missing=nan, monotone_constraints='()',\n",
       "              n_estimators=100, n_jobs=0, num_parallel_tree=1,\n",
       "              objective='multi:softprob', random_state=0, reg_alpha=0,\n",
       "              reg_lambda=1, scale_pos_weight=None, subsample=1,\n",
       "              tree_method='exact', validate_parameters=1, verbosity=None)"
      ]
     },
     "execution_count": 8,
     "metadata": {},
     "output_type": "execute_result"
    }
   ],
   "source": [
    "xgb_model_4 = func.to_ML_attack(df, 'lb_type_of_attack')\n",
    "xgb_model_4"
   ]
  },
  {
   "cell_type": "markdown",
   "metadata": {},
   "source": [
    "## Data for prediction"
   ]
  },
  {
   "cell_type": "code",
   "execution_count": 9,
   "metadata": {},
   "outputs": [
    {
     "data": {
      "text/plain": [
       "Index(['date', 'time', 'duration', 'source', 'src_port', 'destination',\n",
       "       'dest_port', 'protocol', 'length', 'info', 'type_of_attack', 'machine',\n",
       "       'exito', 'attack', 'flag', 'lb_protocol', 'lb_type_of_attack',\n",
       "       'lb_machine', 'lb_flag'],\n",
       "      dtype='object')"
      ]
     },
     "execution_count": 9,
     "metadata": {},
     "output_type": "execute_result"
    }
   ],
   "source": [
    "df_copy = df.copy()\n",
    "df_copy.columns"
   ]
  },
  {
   "cell_type": "code",
   "execution_count": null,
   "metadata": {
    "tags": []
   },
   "outputs": [
    {
     "name": "stdout",
     "output_type": "stream",
     "text": [
      "There was an attack an attack!\n",
      "\n",
      "It was successfull\n",
      "...\n",
      "It was a Nessus attack, commited to a Windowsploitable7 machine\n",
      "\n",
      "\t\t\t---Attack info---\n",
      "date                        Jul  9, 2020 12:11:04.578148382 CEST\n",
      "duration                                             0.000456518\n",
      "src_port                                                      80\n",
      "destination                                             10.0.2.6\n",
      "dest_port                                                  59538\n",
      "protocol                                                     TCP\n",
      "length                                                        66\n",
      "info           80  >  59538 [ACK] Seq=1094 Ack=974 Win=8320 L...\n",
      "Name: 143625, dtype: object\n"
     ]
    }
   ],
   "source": [
    "random = np.random.randint(len(df.index))\n",
    "to_predict = df_copy.loc[random,:]\n",
    "\n",
    "y_pred = func.predict_what(to_predict, 'attack', xgb_model)\n",
    "\n",
    "if y_pred == 1:\n",
    "    print('There was an attack an attack!\\n')\n",
    "    y_pred = func.predict_what(to_predict, 'exito', xgb_model_2)\n",
    "    \n",
    "    if y_pred == 1:\n",
    "        print('It was successfull\\n...')\n",
    "        y_pred = func.predict_what(to_predict, 'lb_machine', xgb_model_3)[0]\n",
    "        y_pred_2 = func.predict_what(to_predict, 'lb_type_of_attack', xgb_model_3)[0]\n",
    "\n",
    "\n",
    "        machine = machines['machine'].loc[machines['lb_machine'] == y_pred].iloc[0]\n",
    "        attack_used = attack['type_of_attack'].loc[attack['lb_type_of_attack'] == y_pred_2].iloc[0]\n",
    "        info = to_predict[['date', 'duration', 'src_port', 'destination',\n",
    "       'dest_port', 'protocol', 'length', 'info']]\n",
    "\n",
    "        print(f'It was a {attack_used} attack, commited to a {machine} machine\\n')\n",
    "        print('\\t\\t\\t---Attack info---')\n",
    "        print(f'{info}')\n",
    "\n",
    "        func.report_maker(machine, attack_used, info)\n",
    "    else:\n",
    "        print(f'The attack was not successfull')\n",
    "else:\n",
    "    print(f'Nothing to worry about')"
   ]
  }
 ],
 "metadata": {
  "kernelspec": {
   "display_name": "Python 3",
   "language": "python",
   "name": "python3"
  },
  "language_info": {
   "codemirror_mode": {
    "name": "ipython",
    "version": 3
   },
   "file_extension": ".py",
   "mimetype": "text/x-python",
   "name": "python",
   "nbconvert_exporter": "python",
   "pygments_lexer": "ipython3",
   "version": "3.7.7"
  }
 },
 "nbformat": 4,
 "nbformat_minor": 4
}
