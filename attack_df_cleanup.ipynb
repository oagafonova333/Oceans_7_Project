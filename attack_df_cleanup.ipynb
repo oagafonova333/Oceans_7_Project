{
 "cells": [
  {
   "cell_type": "code",
   "execution_count": 1,
   "metadata": {
    "tags": []
   },
   "outputs": [
    {
     "output_type": "stream",
     "name": "stdout",
     "text": "EDA lib ready\n"
    }
   ],
   "source": [
    "import pandas as pd\n",
    "import EDA"
   ]
  },
  {
   "cell_type": "code",
   "execution_count": 2,
   "metadata": {},
   "outputs": [
    {
     "output_type": "execute_result",
     "data": {
      "text/plain": "   Unnamed: 0                                  date       time   duration  \\\n0           0  Jul 13, 2020 15:28:31.152545818 CEST  60.924132  49.202835   \n\n      source src_port destination dest_port protocol  length  \\\n0  10.0.2.15    37232   10.0.2.13        80      TCP      74   \n\n                                                info type_of_attack machine  \\\n0  37232  >  80 [SYN] Seq=0 Win=64240 Len=0 MSS=1...      Dirbuster     DVL   \n\n   exito  attack flag  lb_protocol  lb_type_of_attack  lb_machine  lb_flag  \n0      1       1  SYN           60                  1           1       53  ",
      "text/html": "<div>\n<style scoped>\n    .dataframe tbody tr th:only-of-type {\n        vertical-align: middle;\n    }\n\n    .dataframe tbody tr th {\n        vertical-align: top;\n    }\n\n    .dataframe thead th {\n        text-align: right;\n    }\n</style>\n<table border=\"1\" class=\"dataframe\">\n  <thead>\n    <tr style=\"text-align: right;\">\n      <th></th>\n      <th>Unnamed: 0</th>\n      <th>date</th>\n      <th>time</th>\n      <th>duration</th>\n      <th>source</th>\n      <th>src_port</th>\n      <th>destination</th>\n      <th>dest_port</th>\n      <th>protocol</th>\n      <th>length</th>\n      <th>info</th>\n      <th>type_of_attack</th>\n      <th>machine</th>\n      <th>exito</th>\n      <th>attack</th>\n      <th>flag</th>\n      <th>lb_protocol</th>\n      <th>lb_type_of_attack</th>\n      <th>lb_machine</th>\n      <th>lb_flag</th>\n    </tr>\n  </thead>\n  <tbody>\n    <tr>\n      <td>0</td>\n      <td>0</td>\n      <td>Jul 13, 2020 15:28:31.152545818 CEST</td>\n      <td>60.924132</td>\n      <td>49.202835</td>\n      <td>10.0.2.15</td>\n      <td>37232</td>\n      <td>10.0.2.13</td>\n      <td>80</td>\n      <td>TCP</td>\n      <td>74</td>\n      <td>37232  &gt;  80 [SYN] Seq=0 Win=64240 Len=0 MSS=1...</td>\n      <td>Dirbuster</td>\n      <td>DVL</td>\n      <td>1</td>\n      <td>1</td>\n      <td>SYN</td>\n      <td>60</td>\n      <td>1</td>\n      <td>1</td>\n      <td>53</td>\n    </tr>\n  </tbody>\n</table>\n</div>"
     },
     "metadata": {},
     "execution_count": 2
    }
   ],
   "source": [
    "attack =  pd.read_csv(r'F:\\Programacion\\1.BOOTCAMP\\data\\trabajo_interdisciplinar\\df_ready\\data_final_categorical.csv')\n",
    "attack.head(1)"
   ]
  },
  {
   "cell_type": "code",
   "execution_count": 3,
   "metadata": {},
   "outputs": [
    {
     "output_type": "execute_result",
     "data": {
      "text/plain": "0    377720\n6    107230\n7     50081\n3     43872\n1     40202\n5     32911\n2     21008\n4     20275\nName: lb_type_of_attack, dtype: int64"
     },
     "metadata": {},
     "execution_count": 3
    }
   ],
   "source": [
    "attack.lb_type_of_attack.value_counts()"
   ]
  },
  {
   "cell_type": "code",
   "execution_count": 11,
   "metadata": {},
   "outputs": [],
   "source": [
    "labels = attack[['type_of_attack', 'lb_type_of_attack']]"
   ]
  },
  {
   "cell_type": "code",
   "execution_count": 12,
   "metadata": {},
   "outputs": [],
   "source": [
    "labels['type_of_attack'] = labels['type_of_attack'].drop_duplicates(keep = 'first')\n",
    "labels = labels.dropna()"
   ]
  },
  {
   "cell_type": "code",
   "execution_count": 20,
   "metadata": {},
   "outputs": [],
   "source": [
    "labels['type_of_attack'].loc[labels['lb_type_of_attack'] == 0] = 'Unknown Attack'\n",
    "labels = labels.drop(8)"
   ]
  },
  {
   "cell_type": "code",
   "execution_count": 14,
   "metadata": {},
   "outputs": [],
   "source": [
    "labels = labels.reset_index(drop = True)"
   ]
  },
  {
   "cell_type": "code",
   "execution_count": 21,
   "metadata": {},
   "outputs": [
    {
     "output_type": "execute_result",
     "data": {
      "text/plain": "   type_of_attack  lb_type_of_attack\n0       Dirbuster                  1\n1           Hydra                  2\n2          SQLMAP                  6\n3         OpenVas                  5\n4           Nikto                  4\n5          Nessus                  3\n6            nmap                  7\n7  Unknown Attack                  0",
      "text/html": "<div>\n<style scoped>\n    .dataframe tbody tr th:only-of-type {\n        vertical-align: middle;\n    }\n\n    .dataframe tbody tr th {\n        vertical-align: top;\n    }\n\n    .dataframe thead th {\n        text-align: right;\n    }\n</style>\n<table border=\"1\" class=\"dataframe\">\n  <thead>\n    <tr style=\"text-align: right;\">\n      <th></th>\n      <th>type_of_attack</th>\n      <th>lb_type_of_attack</th>\n    </tr>\n  </thead>\n  <tbody>\n    <tr>\n      <td>0</td>\n      <td>Dirbuster</td>\n      <td>1</td>\n    </tr>\n    <tr>\n      <td>1</td>\n      <td>Hydra</td>\n      <td>2</td>\n    </tr>\n    <tr>\n      <td>2</td>\n      <td>SQLMAP</td>\n      <td>6</td>\n    </tr>\n    <tr>\n      <td>3</td>\n      <td>OpenVas</td>\n      <td>5</td>\n    </tr>\n    <tr>\n      <td>4</td>\n      <td>Nikto</td>\n      <td>4</td>\n    </tr>\n    <tr>\n      <td>5</td>\n      <td>Nessus</td>\n      <td>3</td>\n    </tr>\n    <tr>\n      <td>6</td>\n      <td>nmap</td>\n      <td>7</td>\n    </tr>\n    <tr>\n      <td>7</td>\n      <td>Unknown Attack</td>\n      <td>0</td>\n    </tr>\n  </tbody>\n</table>\n</div>"
     },
     "metadata": {},
     "execution_count": 21
    }
   ],
   "source": [
    "labels"
   ]
  },
  {
   "cell_type": "code",
   "execution_count": 22,
   "metadata": {},
   "outputs": [],
   "source": [
    "EDA.df_save(labels)"
   ]
  }
 ],
 "metadata": {
  "language_info": {
   "codemirror_mode": {
    "name": "ipython",
    "version": 3
   },
   "file_extension": ".py",
   "mimetype": "text/x-python",
   "name": "python",
   "nbconvert_exporter": "python",
   "pygments_lexer": "ipython3",
   "version": 3
  },
  "orig_nbformat": 2,
  "kernelspec": {
   "name": "python_defaultSpec_1595513021451",
   "display_name": "Python 3.7.4 64-bit ('base': conda)"
  }
 },
 "nbformat": 4,
 "nbformat_minor": 2
}